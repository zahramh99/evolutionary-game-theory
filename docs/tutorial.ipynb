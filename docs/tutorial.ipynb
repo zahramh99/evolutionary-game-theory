{
 "cells": [
  {
   "cell_type": "code",
   "execution_count": null,
   "metadata": {},
   "outputs": [],
   "source": [
    "# %% [markdown]\n",
    "# # Evolutionary Game Theory Tutorial\n",
    "# Basic simulation workflow\n",
    "\n",
    "# %%\n",
    "from src.core.game import SpatialGame\n",
    "from src.core.agent import EvolutionaryAgent\n",
    "\n",
    "# Initialize\n",
    "game = SpatialGame(size=20)\n",
    "agents = [EvolutionaryAgent(strategy=\"TFT\") for _ in range(100)]\n",
    "\n",
    "# %%\n",
    "# Run 10 generations\n",
    "for gen in range(10):\n",
    "    game.play_round(agents)\n",
    "    print(f\"Gen {gen}: Cooperation = {game.cooperation_rate():.2f}\")"
   ]
  }
 ],
 "metadata": {
  "language_info": {
   "name": "python"
  },
  "orig_nbformat": 4
 },
 "nbformat": 4,
 "nbformat_minor": 2
}
